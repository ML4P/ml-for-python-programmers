{
 "cells": [
  {
   "cell_type": "markdown",
   "metadata": {},
   "source": [
    "## Section 4: Classifying things based on our model\n",
    "\n",
    "- Simple cross validation - take one out!\n",
    "- Cheaper cross validation - x fold cross validation\n",
    "    - (Here we develop the intuition of the cost of take one out methods, and how by restricting the set of elements removed we can achieve similar results while using significantly less resources)\n",
    "- Model selection\n",
    "    - discussion of various classification mechanisms\n",
    "    - can be single sentence overviews with pointers to other sources\n",
    "    - need to also have some in depth examples\n",
    "    - building out the examples can be done afterwards"
   ]
  }
 ],
 "metadata": {
  "kernelspec": {
   "display_name": "Python 2",
   "language": "python",
   "name": "python2"
  },
  "language_info": {
   "codemirror_mode": {
    "name": "ipython",
    "version": 2
   },
   "file_extension": ".py",
   "mimetype": "text/x-python",
   "name": "python",
   "nbconvert_exporter": "python",
   "pygments_lexer": "ipython2",
   "version": "2.7.10"
  }
 },
 "nbformat": 4,
 "nbformat_minor": 0
}
