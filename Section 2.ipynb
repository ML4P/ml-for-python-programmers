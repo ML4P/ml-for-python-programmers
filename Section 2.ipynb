{
 "cells": [
  {
   "cell_type": "markdown",
   "metadata": {},
   "source": [
    "# Section 2: The Statistics you will need for this course"
   ]
  },
  {
   "cell_type": "markdown",
   "metadata": {},
   "source": [
    "## Introduction\n",
    "\n",
    "Statsitics is *hard*. There are a plethora of sources that discuss this, and also the tendency that we have to get basic things wrong. \n",
    "\n",
    "Take a look at the references below to see what we're talking about! However, don't be discouraged. In this section, we want to develop a couple of things:\n",
    "1. An intuition for what *good* statistics and applications of statistics are\n",
    "2. A healthy skepticism of what you read and what you produce. \n",
    "\n",
    "You should be reasonably cautious about the methods used to produce some statistical results, and extremely skeptical of the interpretation of the same.\n",
    "\n",
    "### The Coin Toss\n",
    "\n",
    "Let's consider a simple first case: A coin toss. Coins are fun to deal with because they are easy to play with and to use. Let's imagine that we have a coin - C - with two sides, one heads, the other tails. How do we simulate a coin toss in python? We could just use a coin :) \n",
    "\n",
    "However, instead, we'll assume that we have a reasonable random number generator (we don't - more on this later) and then we'll want to simulate a toss as a choice between two random numbers:\n"
   ]
  },
  {
   "cell_type": "code",
   "execution_count": null,
   "metadata": {
    "collapsed": true
   },
   "outputs": [],
   "source": [
    "import random\n",
    "import matplotlib.pyplot\n",
    "\n",
    "class Coin(object):\n",
    "    "
   ]
  },
  {
   "cell_type": "markdown",
   "metadata": {},
   "source": [
    "\n",
    "#### Anecdotal Evidence\n",
    "\n",
    "#### Biases\n",
    "\n",
    "Confirmation Bias\n",
    "Selection Bias\n",
    "Inaccuracy\n",
    "Sample Size"
   ]
  },
  {
   "cell_type": "code",
   "execution_count": null,
   "metadata": {
    "collapsed": true
   },
   "outputs": [],
   "source": []
  },
  {
   "cell_type": "code",
   "execution_count": null,
   "metadata": {
    "collapsed": true
   },
   "outputs": [],
   "source": []
  },
  {
   "cell_type": "code",
   "execution_count": null,
   "metadata": {
    "collapsed": true
   },
   "outputs": [],
   "source": []
  },
  {
   "cell_type": "markdown",
   "metadata": {},
   "source": [
    "----\n",
    "## Random numbers and using probability\n",
    "\n",
    "- Quick refresher on randomness and entropy (rand(), srand(), seeds and entropy)\n",
    "- In a game, determining hit probabilities\n",
    "- Use of probability in simulating situations\n",
    "- Intuition; gaming and probabilities\n",
    "    - Probability of hitting with a dexterity of 18 (Introduces the student to conditional probabilities)\n",
    "- Relative frequency approach"
   ]
  },
  {
   "cell_type": "markdown",
   "metadata": {},
   "source": [
    "----\n",
    "## Basic Statistics\n",
    "\n",
    "- Sampling, Simulation and Shuffling\n",
    "- Bootstrapping\n",
    "- Cross validation\n",
    "- Code Exercise: Sampling Framework"
   ]
  },
  {
   "cell_type": "markdown",
   "metadata": {},
   "source": [
    "----\n",
    "## Basic Probability\n",
    "\n",
    "- Theoretical vs Empirical vs Subjective probability\n",
    "- Odds and Expectations\n",
    "- Rules of probability\n",
    "- Conditional probability\n",
    "- Conjoint probability\n",
    "- Probability Distributions and Probability Functions"
   ]
  },
  {
   "cell_type": "markdown",
   "metadata": {},
   "source": [
    "## The Most Important Discussion in Statistics - Significance\n",
    "- What’s in a guess?\n",
    "    - Credible intervals\n",
    "    - p-values and the Null Hypothesis\n",
    "    - When and how to use p-values\n",
    "    - Intuition: Tossers - when are coins and dice fair?\n",
    "- Code Exercise: Probability Framework"
   ]
  },
  {
   "cell_type": "markdown",
   "metadata": {},
   "source": [
    "----\n",
    "## Some advanced methods\n",
    "\n",
    "- Bayes' Theorem\n",
    "    - The cookie problem\n",
    "    - The diachronic interpretation of Bayes’ Theorem\n",
    "    - The Monty Hall Problem\n",
    "    - Estimation and credible intervals\n",
    "- Code Exercise: Modelling Probability using our Sampling and Probability Frameworks\n",
    "- Bayesian techniques for reasoning under uncertainty\n",
    "    - Use the example of NPCs in a game environment\n",
    "    - To give students the intuition of how to handle the use of reasoning with imperfect data\n",
    "- Code Exercise: Modeling odds of NPC Action\n",
    "- Rough and Fuzzy sets\n",
    "    - Basic Set Theory and its relation to probability\n",
    "    - Data Granulation\n",
    "    - Data Omission\n",
    "    - Streamlining access to large datasets\n",
    "    "
   ]
  },
  {
   "cell_type": "markdown",
   "metadata": {},
   "source": [
    "----\n",
    "## References\n",
    "\n",
    "1. How to Lie with Statistics - Darrell Huff\n",
    "2. Statistics Done Wrong, the Woefully Complete Guide - Alex Reinhart\n",
    "3. Thinking Stats\n",
    "4. Thinking Bayes\n"
   ]
  }
 ],
 "metadata": {
  "kernelspec": {
   "display_name": "Python 2",
   "language": "python",
   "name": "python2"
  },
  "language_info": {
   "codemirror_mode": {
    "name": "ipython",
    "version": 2
   },
   "file_extension": ".py",
   "mimetype": "text/x-python",
   "name": "python",
   "nbconvert_exporter": "python",
   "pygments_lexer": "ipython2",
   "version": "2.7.10"
  }
 },
 "nbformat": 4,
 "nbformat_minor": 0
}
