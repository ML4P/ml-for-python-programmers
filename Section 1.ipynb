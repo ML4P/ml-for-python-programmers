{
 "cells": [
  {
   "cell_type": "markdown",
   "metadata": {},
   "source": [
    "# Section 1: the Python you will need for this course"
   ]
  },
  {
   "cell_type": "markdown",
   "metadata": {},
   "source": [
    "## Numerical processing\n",
    "\n",
    "----\n",
    "TBD: Discussion of the need for numerical processing\n",
    "\n",
    "1. NumPy - foundational arrays and data structures\n",
    "2. SciPy - numerical processing and algorithms\n",
    "3. Pandas - data frames, columnar access, queries, time series data access\n",
    "4. Matplotlib - visualization of data / results\n",
    "5. Theano - arrays and fft library\n",
    "6. Keras - a Neural Net library built on top of Theano\n",
    "7. Pattern - a Natural Language processing library. Obsolete now, but great for learning\n"
   ]
  },
  {
   "cell_type": "code",
   "execution_count": 47,
   "metadata": {
    "collapsed": true
   },
   "outputs": [],
   "source": [
    "from IPython.display import display"
   ]
  },
  {
   "cell_type": "markdown",
   "metadata": {},
   "source": [
    "----\n",
    "\n",
    "### NumPy - foundational arrays and data structures\n",
    "\n",
    "The NumPy `array` will be used to store all the data we're going to be working with (sometimes behind other libraries like Pandas).\n",
    "\n",
    "It provides simple and efficient vector operations (eg, `arr * 3`), aggregations (eg, `arr.sum()`), and the supporting libraries implement a variety of mathmatical, statistical, and scientific operations."
   ]
  },
  {
   "cell_type": "code",
   "execution_count": null,
   "metadata": {
    "collapsed": true
   },
   "outputs": [],
   "source": [
    "import numpy as np"
   ]
  },
  {
   "cell_type": "code",
   "execution_count": 19,
   "metadata": {
    "collapsed": false
   },
   "outputs": [
    {
     "name": "stdout",
     "output_type": "stream",
     "text": [
      "Vector operations:\n",
      "a: [1 2 3]\n",
      "b: [10 20 30]\n",
      "a * 3: [3 6 9]\n",
      "a + b: [11 22 33]\n"
     ]
    }
   ],
   "source": [
    "print \"Vector operations:\"\n",
    "a = np.array([1, 2, 3])\n",
    "b = np.array([10, 20, 30])\n",
    "print \"a:\", a\n",
    "print \"b:\", b\n",
    "print \"a * 3:\", a * 3\n",
    "print \"a + b:\", a + b"
   ]
  },
  {
   "cell_type": "code",
   "execution_count": 40,
   "metadata": {
    "collapsed": false
   },
   "outputs": [
    {
     "name": "stdout",
     "output_type": "stream",
     "text": [
      "Multidimentional arrays:\n",
      "a:\n",
      "[[ 1 10]\n",
      " [ 2 20]\n",
      " [ 3 30]]\n",
      "a.shape: (3, 2)\n",
      "\n",
      "a[:, 0]: [1 2 3]\n",
      "a[:, 1]: [10 20 30]\n",
      "a[0, :]: [ 1 10]\n",
      "a[0]:    [ 1 10]\n",
      "\n",
      "a.mean(): 11.0\n",
      "a.mean(axis=0): [  2.  20.]\n",
      "a.mean(axis=1): [  5.5  11.   16.5]\n"
     ]
    }
   ],
   "source": [
    "print \"Multidimentional arrays:\"\n",
    "\n",
    "a = np.array([\n",
    "    [1, 10],\n",
    "    [2, 20],\n",
    "    [3, 30],\n",
    "])\n",
    "print \"a:\\n\", a\n",
    "print \"a.shape:\", a.shape\n",
    "print\n",
    "\n",
    "print \"a[:, 0]:\", a[:, 0]\n",
    "print \"a[:, 1]:\", a[:, 1]\n",
    "print \"a[0, :]:\", a[0, :]\n",
    "print \"a[0]:   \", a[0]\n",
    "print\n",
    "\n",
    "print \"a.mean():\", a.mean()\n",
    "print \"a.mean(axis=0):\", a.mean(axis=0)\n",
    "print \"a.mean(axis=1):\", a.mean(axis=1)"
   ]
  },
  {
   "cell_type": "markdown",
   "metadata": {},
   "source": [
    "----\n",
    "SciPy - numerical processing and algorithms"
   ]
  },
  {
   "cell_type": "code",
   "execution_count": null,
   "metadata": {
    "collapsed": true
   },
   "outputs": [],
   "source": [
    "# TODO: fill this out once we know which parts of scipy we'll be using"
   ]
  },
  {
   "cell_type": "markdown",
   "metadata": {},
   "source": [
    "----\n",
    "### Pandas - data frames, columnar access, queries, time series data access\n",
    "\n",
    "Pandas provides DataFrames, collections of data akin to database tables, which can be easily queried and composed. It also has first-class support for timeseries data."
   ]
  },
  {
   "cell_type": "code",
   "execution_count": 74,
   "metadata": {
    "collapsed": false
   },
   "outputs": [
    {
     "data": {
      "text/html": [
       "<div>\n",
       "<table border=\"1\" class=\"dataframe\">\n",
       "  <thead>\n",
       "    <tr style=\"text-align: right;\">\n",
       "      <th></th>\n",
       "      <th>following</th>\n",
       "      <th>handle</th>\n",
       "      <th>tweets</th>\n",
       "    </tr>\n",
       "  </thead>\n",
       "  <tbody>\n",
       "    <tr>\n",
       "      <th>0</th>\n",
       "      <td>34</td>\n",
       "      <td>vladnikiporov</td>\n",
       "      <td>28</td>\n",
       "    </tr>\n",
       "    <tr>\n",
       "      <th>1</th>\n",
       "      <td>647</td>\n",
       "      <td>wolever</td>\n",
       "      <td>42328</td>\n",
       "    </tr>\n",
       "    <tr>\n",
       "      <th>2</th>\n",
       "      <td>86</td>\n",
       "      <td>grahamtoppin</td>\n",
       "      <td>174</td>\n",
       "    </tr>\n",
       "  </tbody>\n",
       "</table>\n",
       "</div>"
      ],
      "text/plain": [
       "   following         handle  tweets\n",
       "0         34  vladnikiporov      28\n",
       "1        647        wolever   42328\n",
       "2         86   grahamtoppin     174"
      ]
     },
     "execution_count": 74,
     "metadata": {},
     "output_type": "execute_result"
    }
   ],
   "source": [
    "import pandas as pd\n",
    "\n",
    "df = pd.DataFrame({\n",
    "    \"handle\": [\"vladnikiporov\", \"wolever\", \"grahamtoppin\"],\n",
    "    \"tweets\": [28, 42328, 174],\n",
    "    \"following\": [34, 647, 86],\n",
    "})\n",
    "\n",
    "df"
   ]
  },
  {
   "cell_type": "code",
   "execution_count": 75,
   "metadata": {
    "collapsed": false
   },
   "outputs": [
    {
     "data": {
      "text/html": [
       "<div>\n",
       "<table border=\"1\" class=\"dataframe\">\n",
       "  <thead>\n",
       "    <tr style=\"text-align: right;\">\n",
       "      <th></th>\n",
       "      <th>following</th>\n",
       "      <th>handle</th>\n",
       "      <th>tweets</th>\n",
       "    </tr>\n",
       "  </thead>\n",
       "  <tbody>\n",
       "    <tr>\n",
       "      <th>0</th>\n",
       "      <td>34</td>\n",
       "      <td>vladnikiporov</td>\n",
       "      <td>28</td>\n",
       "    </tr>\n",
       "    <tr>\n",
       "      <th>2</th>\n",
       "      <td>86</td>\n",
       "      <td>grahamtoppin</td>\n",
       "      <td>174</td>\n",
       "    </tr>\n",
       "    <tr>\n",
       "      <th>1</th>\n",
       "      <td>647</td>\n",
       "      <td>wolever</td>\n",
       "      <td>42328</td>\n",
       "    </tr>\n",
       "  </tbody>\n",
       "</table>\n",
       "</div>"
      ],
      "text/plain": [
       "   following         handle  tweets\n",
       "0         34  vladnikiporov      28\n",
       "2         86   grahamtoppin     174\n",
       "1        647        wolever   42328"
      ]
     },
     "execution_count": 75,
     "metadata": {},
     "output_type": "execute_result"
    }
   ],
   "source": [
    "df.sort('tweets')"
   ]
  },
  {
   "cell_type": "code",
   "execution_count": 64,
   "metadata": {
    "collapsed": false
   },
   "outputs": [
    {
     "data": {
      "text/plain": [
       "0    vladnikiporov\n",
       "1          wolever\n",
       "2     grahamtoppin\n",
       "Name: handle, dtype: object"
      ]
     },
     "execution_count": 64,
     "metadata": {},
     "output_type": "execute_result"
    }
   ],
   "source": [
    "# Indexing into a DataFrame returns the individual Series:\n",
    "df['handle']"
   ]
  },
  {
   "cell_type": "code",
   "execution_count": 76,
   "metadata": {
    "collapsed": false
   },
   "outputs": [
    {
     "data": {
      "text/plain": [
       "0     0.823529\n",
       "1    65.421947\n",
       "2     2.023256\n",
       "dtype: float64"
      ]
     },
     "execution_count": 76,
     "metadata": {},
     "output_type": "execute_result"
    }
   ],
   "source": [
    "# DataFrames and Series can be treated (mostly) like a NumPy array\n",
    "df[\"tweets\"] / df[\"following\"]"
   ]
  },
  {
   "cell_type": "code",
   "execution_count": 77,
   "metadata": {
    "collapsed": false
   },
   "outputs": [
    {
     "data": {
      "text/html": [
       "<div>\n",
       "<table border=\"1\" class=\"dataframe\">\n",
       "  <thead>\n",
       "    <tr style=\"text-align: right;\">\n",
       "      <th></th>\n",
       "      <th>following</th>\n",
       "      <th>handle</th>\n",
       "      <th>tweets</th>\n",
       "      <th>tweets_to_following</th>\n",
       "    </tr>\n",
       "  </thead>\n",
       "  <tbody>\n",
       "    <tr>\n",
       "      <th>0</th>\n",
       "      <td>34</td>\n",
       "      <td>vladnikiporov</td>\n",
       "      <td>28</td>\n",
       "      <td>0.823529</td>\n",
       "    </tr>\n",
       "    <tr>\n",
       "      <th>1</th>\n",
       "      <td>647</td>\n",
       "      <td>wolever</td>\n",
       "      <td>42328</td>\n",
       "      <td>65.421947</td>\n",
       "    </tr>\n",
       "    <tr>\n",
       "      <th>2</th>\n",
       "      <td>86</td>\n",
       "      <td>grahamtoppin</td>\n",
       "      <td>174</td>\n",
       "      <td>2.023256</td>\n",
       "    </tr>\n",
       "  </tbody>\n",
       "</table>\n",
       "</div>"
      ],
      "text/plain": [
       "   following         handle  tweets  tweets_to_following\n",
       "0         34  vladnikiporov      28             0.823529\n",
       "1        647        wolever   42328            65.421947\n",
       "2         86   grahamtoppin     174             2.023256"
      ]
     },
     "execution_count": 77,
     "metadata": {},
     "output_type": "execute_result"
    }
   ],
   "source": [
    "df[\"tweets_to_following\"] = df[\"tweets\"] / df[\"following\"]\n",
    "df"
   ]
  },
  {
   "cell_type": "code",
   "execution_count": 78,
   "metadata": {
    "collapsed": false
   },
   "outputs": [
    {
     "data": {
      "text/html": [
       "<div>\n",
       "<table border=\"1\" class=\"dataframe\">\n",
       "  <thead>\n",
       "    <tr style=\"text-align: right;\">\n",
       "      <th></th>\n",
       "      <th>following</th>\n",
       "      <th>tweets</th>\n",
       "      <th>tweets_to_following</th>\n",
       "    </tr>\n",
       "    <tr>\n",
       "      <th>handle</th>\n",
       "      <th></th>\n",
       "      <th></th>\n",
       "      <th></th>\n",
       "    </tr>\n",
       "  </thead>\n",
       "  <tbody>\n",
       "    <tr>\n",
       "      <th>vladnikiporov</th>\n",
       "      <td>34</td>\n",
       "      <td>28</td>\n",
       "      <td>0.823529</td>\n",
       "    </tr>\n",
       "    <tr>\n",
       "      <th>wolever</th>\n",
       "      <td>647</td>\n",
       "      <td>42328</td>\n",
       "      <td>65.421947</td>\n",
       "    </tr>\n",
       "    <tr>\n",
       "      <th>grahamtoppin</th>\n",
       "      <td>86</td>\n",
       "      <td>174</td>\n",
       "      <td>2.023256</td>\n",
       "    </tr>\n",
       "  </tbody>\n",
       "</table>\n",
       "</div>"
      ],
      "text/plain": [
       "               following  tweets  tweets_to_following\n",
       "handle                                               \n",
       "vladnikiporov         34      28             0.823529\n",
       "wolever              647   42328            65.421947\n",
       "grahamtoppin          86     174             2.023256"
      ]
     },
     "execution_count": 78,
     "metadata": {},
     "output_type": "execute_result"
    }
   ],
   "source": [
    "# The most powerful aspect of Pandas is the fact that data is _indexed_\n",
    "tdf = df.set_index(\"handle\")\n",
    "tdf"
   ]
  },
  {
   "cell_type": "code",
   "execution_count": 79,
   "metadata": {
    "collapsed": false
   },
   "outputs": [
    {
     "data": {
      "text/plain": [
       "handle\n",
       "vladnikiporov       28\n",
       "wolever          42328\n",
       "grahamtoppin       174\n",
       "Name: tweets, dtype: int64"
      ]
     },
     "execution_count": 79,
     "metadata": {},
     "output_type": "execute_result"
    }
   ],
   "source": [
    "# Notice that the tweet counts are now associated with the user's handle\n",
    "tdf[\"tweets\"]"
   ]
  },
  {
   "cell_type": "code",
   "execution_count": 80,
   "metadata": {
    "collapsed": false
   },
   "outputs": [
    {
     "name": "stdout",
     "output_type": "stream",
     "text": [
      "Notice that the two indexes are identical:\n",
      "tdf.index:           Index([u'vladnikiporov', u'wolever', u'grahamtoppin'], dtype='object', name=u'handle')\n",
      "tdf['tweets'].index: Index([u'vladnikiporov', u'wolever', u'grahamtoppin'], dtype='object', name=u'handle')\n"
     ]
    }
   ],
   "source": [
    "print \"Notice that the two indexes are identical:\"\n",
    "print \"tdf.index:          \", tdf.index\n",
    "print \"tdf['tweets'].index:\", tdf[\"tweets\"].index"
   ]
  },
  {
   "cell_type": "code",
   "execution_count": 87,
   "metadata": {
    "collapsed": false
   },
   "outputs": [
    {
     "name": "stdout",
     "output_type": "stream",
     "text": [
      "Notice that the ratios are correct even though the indecies are in a different order:\n"
     ]
    },
    {
     "data": {
      "text/plain": [
       "grahamtoppin     0.813953\n",
       "vladnikiporov    0.235294\n",
       "wolever          2.922720\n",
       "dtype: float64"
      ]
     },
     "execution_count": 87,
     "metadata": {},
     "output_type": "execute_result"
    }
   ],
   "source": [
    "# DataFrames and series are automatically joined on their indexes\n",
    "followers = pd.Series([1891, 8, 70], index=[\"wolever\", \"vladnikiporov\", \"grahamtoppin\"], name=\"followers\")\n",
    "print \"Notice that the ratios are correct even though the indecies are in a different order:\"\n",
    "followers / tdf[\"following\"]"
   ]
  },
  {
   "cell_type": "code",
   "execution_count": 89,
   "metadata": {
    "collapsed": false
   },
   "outputs": [
    {
     "data": {
      "text/html": [
       "<div>\n",
       "<table border=\"1\" class=\"dataframe\">\n",
       "  <thead>\n",
       "    <tr style=\"text-align: right;\">\n",
       "      <th></th>\n",
       "      <th>following</th>\n",
       "      <th>tweets</th>\n",
       "      <th>tweets_to_following</th>\n",
       "      <th>followers</th>\n",
       "    </tr>\n",
       "    <tr>\n",
       "      <th>handle</th>\n",
       "      <th></th>\n",
       "      <th></th>\n",
       "      <th></th>\n",
       "      <th></th>\n",
       "    </tr>\n",
       "  </thead>\n",
       "  <tbody>\n",
       "    <tr>\n",
       "      <th>vladnikiporov</th>\n",
       "      <td>34</td>\n",
       "      <td>28</td>\n",
       "      <td>0.823529</td>\n",
       "      <td>8</td>\n",
       "    </tr>\n",
       "    <tr>\n",
       "      <th>wolever</th>\n",
       "      <td>647</td>\n",
       "      <td>42328</td>\n",
       "      <td>65.421947</td>\n",
       "      <td>1891</td>\n",
       "    </tr>\n",
       "    <tr>\n",
       "      <th>grahamtoppin</th>\n",
       "      <td>86</td>\n",
       "      <td>174</td>\n",
       "      <td>2.023256</td>\n",
       "      <td>70</td>\n",
       "    </tr>\n",
       "  </tbody>\n",
       "</table>\n",
       "</div>"
      ],
      "text/plain": [
       "               following  tweets  tweets_to_following  followers\n",
       "handle                                                          \n",
       "vladnikiporov         34      28             0.823529          8\n",
       "wolever              647   42328            65.421947       1891\n",
       "grahamtoppin          86     174             2.023256         70"
      ]
     },
     "execution_count": 89,
     "metadata": {},
     "output_type": "execute_result"
    }
   ],
   "source": [
    "# And we can join the followers to the rest of the twitter handles\n",
    "tdf.join(followers)"
   ]
  },
  {
   "cell_type": "code",
   "execution_count": 95,
   "metadata": {
    "collapsed": false
   },
   "outputs": [
    {
     "name": "stdout",
     "output_type": "stream",
     "text": [
      "The boolean mask:\n"
     ]
    },
    {
     "data": {
      "text/plain": [
       "handle\n",
       "vladnikiporov     True\n",
       "wolever          False\n",
       "grahamtoppin      True\n",
       "Name: tweets, dtype: bool"
      ]
     },
     "metadata": {},
     "output_type": "display_data"
    },
    {
     "name": "stdout",
     "output_type": "stream",
     "text": [
      "\n",
      "\n",
      "Rows with fewer than 1,000 tweets:\n"
     ]
    },
    {
     "data": {
      "text/html": [
       "<div>\n",
       "<table border=\"1\" class=\"dataframe\">\n",
       "  <thead>\n",
       "    <tr style=\"text-align: right;\">\n",
       "      <th></th>\n",
       "      <th>following</th>\n",
       "      <th>tweets</th>\n",
       "      <th>tweets_to_following</th>\n",
       "    </tr>\n",
       "    <tr>\n",
       "      <th>handle</th>\n",
       "      <th></th>\n",
       "      <th></th>\n",
       "      <th></th>\n",
       "    </tr>\n",
       "  </thead>\n",
       "  <tbody>\n",
       "    <tr>\n",
       "      <th>vladnikiporov</th>\n",
       "      <td>34</td>\n",
       "      <td>28</td>\n",
       "      <td>0.823529</td>\n",
       "    </tr>\n",
       "    <tr>\n",
       "      <th>grahamtoppin</th>\n",
       "      <td>86</td>\n",
       "      <td>174</td>\n",
       "      <td>2.023256</td>\n",
       "    </tr>\n",
       "  </tbody>\n",
       "</table>\n",
       "</div>"
      ],
      "text/plain": [
       "               following  tweets  tweets_to_following\n",
       "handle                                               \n",
       "vladnikiporov         34      28             0.823529\n",
       "grahamtoppin          86     174             2.023256"
      ]
     },
     "execution_count": 95,
     "metadata": {},
     "output_type": "execute_result"
    }
   ],
   "source": [
    "# DataFrames can be queried in two ways: slicing with a mask, and the `.query` method.\n",
    "\n",
    "# To query by slicing with a mask, a boolean mask is created:\n",
    "print \"The boolean mask:\"\n",
    "display(tdf[\"tweets\"] < 1000)\n",
    "print\n",
    "print\n",
    "\n",
    "print \"Rows with fewer than 1,000 tweets:\"\n",
    "# And the DF is sliced with it:\n",
    "tdf[tdf[\"tweets\"] < 1000]"
   ]
  },
  {
   "cell_type": "code",
   "execution_count": 98,
   "metadata": {
    "collapsed": false
   },
   "outputs": [
    {
     "data": {
      "text/html": [
       "<div>\n",
       "<table border=\"1\" class=\"dataframe\">\n",
       "  <thead>\n",
       "    <tr style=\"text-align: right;\">\n",
       "      <th></th>\n",
       "      <th>following</th>\n",
       "      <th>tweets</th>\n",
       "      <th>tweets_to_following</th>\n",
       "    </tr>\n",
       "    <tr>\n",
       "      <th>handle</th>\n",
       "      <th></th>\n",
       "      <th></th>\n",
       "      <th></th>\n",
       "    </tr>\n",
       "  </thead>\n",
       "  <tbody>\n",
       "    <tr>\n",
       "      <th>vladnikiporov</th>\n",
       "      <td>34</td>\n",
       "      <td>28</td>\n",
       "      <td>0.823529</td>\n",
       "    </tr>\n",
       "    <tr>\n",
       "      <th>grahamtoppin</th>\n",
       "      <td>86</td>\n",
       "      <td>174</td>\n",
       "      <td>2.023256</td>\n",
       "    </tr>\n",
       "  </tbody>\n",
       "</table>\n",
       "</div>"
      ],
      "text/plain": [
       "               following  tweets  tweets_to_following\n",
       "handle                                               \n",
       "vladnikiporov         34      28             0.823529\n",
       "grahamtoppin          86     174             2.023256"
      ]
     },
     "execution_count": 98,
     "metadata": {},
     "output_type": "execute_result"
    }
   ],
   "source": [
    "# The `query` method accepts a Python expression and returns the matching rows:\n",
    "tdf.query(\"tweets < 1000\")"
   ]
  },
  {
   "cell_type": "markdown",
   "metadata": {},
   "source": [
    "TODO: I could write about Pandas for days, so I'm going to stop here… but possibly it's worth including timeseries? Idk, we'll see what we end up using... http://pandas.pydata.org/pandas-docs/stable/timeseries.html"
   ]
  },
  {
   "cell_type": "markdown",
   "metadata": {},
   "source": [
    "----\n",
    "\n",
    "### Matplotlib - visualization of data / results\n",
    "\n",
    "Matplotlib is an incredibly flexible plotting library. See the gallery for a more complete list of examples: http://matplotlib.org/gallery.html"
   ]
  },
  {
   "cell_type": "code",
   "execution_count": 103,
   "metadata": {
    "collapsed": false
   },
   "outputs": [],
   "source": [
    "%matplotlib inline\n",
    "# This IPython magic imports matplotlib as plt and configures it to render images in the Notebook"
   ]
  },
  {
   "cell_type": "code",
   "execution_count": null,
   "metadata": {
    "collapsed": true
   },
   "outputs": [],
   "source": []
  },
  {
   "cell_type": "markdown",
   "metadata": {},
   "source": [
    "----\n",
    "Theano - arrays and fft library"
   ]
  },
  {
   "cell_type": "code",
   "execution_count": null,
   "metadata": {
    "collapsed": true
   },
   "outputs": [],
   "source": []
  },
  {
   "cell_type": "markdown",
   "metadata": {},
   "source": [
    "----\n",
    "Keras - a Neural Net library built on top of Theano"
   ]
  },
  {
   "cell_type": "code",
   "execution_count": null,
   "metadata": {
    "collapsed": true
   },
   "outputs": [],
   "source": []
  },
  {
   "cell_type": "markdown",
   "metadata": {},
   "source": [
    "----\n",
    "Pattern - a Natural Language processing library. Obsolete now, but great for learning"
   ]
  },
  {
   "cell_type": "code",
   "execution_count": null,
   "metadata": {
    "collapsed": true
   },
   "outputs": [],
   "source": []
  },
  {
   "cell_type": "markdown",
   "metadata": {},
   "source": [
    "----\n",
    "Gensim - extracting topics"
   ]
  },
  {
   "cell_type": "code",
   "execution_count": null,
   "metadata": {
    "collapsed": true
   },
   "outputs": [],
   "source": []
  },
  {
   "cell_type": "markdown",
   "metadata": {},
   "source": [
    "----\n",
    "NLTK / Pattern - detecting simple sentiment"
   ]
  },
  {
   "cell_type": "code",
   "execution_count": null,
   "metadata": {
    "collapsed": true
   },
   "outputs": [],
   "source": []
  },
  {
   "cell_type": "markdown",
   "metadata": {},
   "source": [
    "----\n",
    "NLTK / Pattern - Showing the structure of a sentence"
   ]
  },
  {
   "cell_type": "code",
   "execution_count": null,
   "metadata": {
    "collapsed": true
   },
   "outputs": [],
   "source": []
  }
 ],
 "metadata": {
  "kernelspec": {
   "display_name": "Python 2",
   "language": "python",
   "name": "python2"
  },
  "language_info": {
   "codemirror_mode": {
    "name": "ipython",
    "version": 2
   },
   "file_extension": ".py",
   "mimetype": "text/x-python",
   "name": "python",
   "nbconvert_exporter": "python",
   "pygments_lexer": "ipython2",
   "version": "2.7.9"
  }
 },
 "nbformat": 4,
 "nbformat_minor": 0
}
