{
 "cells": [
  {
   "cell_type": "markdown",
   "metadata": {},
   "source": [
    "# Section 2: The Statistics you will need for this course\n",
    "----\n",
    "## Random numbers and using probability\n",
    "\n",
    "- Quick refresher on randomness and entropy (rand(), srand(), seeds and entropy)\n",
    "- In a game, determining hit probabilities\n",
    "- Use of probability in simulating situations\n",
    "- Intuition; gaming and probabilities\n",
    "    - Probability of hitting with a dexterity of 18 (Introduces the student to conditional probabilities)\n",
    "- Relative frequency approach\n",
    "\n",
    "----\n",
    "## Basic Statistics\n",
    "\n",
    "- Sampling, Simulation and Shuffling\n",
    "- Bootstrapping\n",
    "- Cross validation\n",
    "- Code Exercise: Sampling Framework\n",
    "\n",
    "----\n",
    "## Basic Probability\n",
    "\n",
    "- Theoretical vs Empirical vs Subjective probability\n",
    "- Odds and Expectations\n",
    "- Rules of probability\n",
    "- Conditional probability\n",
    "- Conjoint probability\n",
    "- Probability Distributions and Probability Functions\n",
    "- What’s in a guess?\n",
    "    - Credible intervals\n",
    "    - p-values and the Null Hypothesis\n",
    "    - When and how to use p-values\n",
    "    - Intuition: Tossers - when are coins and dice fair?\n",
    "- Code Exercise: Probability Framework\n",
    "\n",
    "----\n",
    "## Some advanced methods\n",
    "\n",
    "- Bayes' Theorem\n",
    "    - The cookie problem\n",
    "    - The diachronic interpretation of Bayes’ Theorem\n",
    "    - The Monty Hall Problem\n",
    "    - Estimation and credible intervals\n",
    "- Code Exercise: Modelling Probability using our Sampling and Probability Frameworks\n",
    "- Bayesian techniques for reasoning under uncertainty\n",
    "    - Use the example of NPCs in a game environment\n",
    "    - To give students the intuition of how to handle the use of reasoning with imperfect data\n",
    "- Code Exercise: Modeling odds of NPC Action\n",
    "- Rough and Fuzzy sets\n",
    "    - Basic Set Theory and its relation to probability\n",
    "    - Data Granulation\n",
    "    - Data Omission\n",
    "    - Streamlining access to large datasets"
   ]
  }
 ],
 "metadata": {
  "kernelspec": {
   "display_name": "Python 2",
   "language": "python",
   "name": "python2"
  },
  "language_info": {
   "codemirror_mode": {
    "name": "ipython",
    "version": 2
   },
   "file_extension": ".py",
   "mimetype": "text/x-python",
   "name": "python",
   "nbconvert_exporter": "python",
   "pygments_lexer": "ipython2",
   "version": "2.7.10"
  }
 },
 "nbformat": 4,
 "nbformat_minor": 0
}
